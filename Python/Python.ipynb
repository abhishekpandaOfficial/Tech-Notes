{
 "cells": [
  {
   "cell_type": "code",
   "execution_count": 2,
   "id": "0a14ac75-8f9d-4316-8d0a-901eb1bf6dd1",
   "metadata": {
    "tags": []
   },
   "outputs": [
    {
     "name": "stdout",
     "output_type": "stream",
     "text": [
      "hello world\n"
     ]
    }
   ],
   "source": [
    "print(\"hello world\")\n"
   ]
  },
  {
   "cell_type": "markdown",
   "id": "e3f5ec79-1169-437a-b319-04dca6ef8209",
   "metadata": {},
   "source": [
    "Python Reserved Keywords\n",
    "========================\n"
   ]
  },
  {
   "cell_type": "raw",
   "id": "69542d2d-9f39-4f39-9685-d1ff92ac3639",
   "metadata": {
    "tags": []
   },
   "source": [
    "and          as       assert\n",
    "break       class     continue\n",
    "def          del       elif\n",
    "else        except     False\n",
    "finally      for        from\n",
    "global       if        import\n",
    "in           is        lambda\n",
    "None        nonlocal    not\n",
    "or           pass       raise\n",
    "return      True        try\n",
    "while       with        yield"
   ]
  },
  {
   "cell_type": "markdown",
   "id": "7de25624-90f2-4c0f-9cc3-7956e07065ca",
   "metadata": {},
   "source": [
    "Python Variables\n",
    "----------------"
   ]
  },
  {
   "cell_type": "markdown",
   "id": "d8764399-d18e-4c56-baae-b214437774af",
   "metadata": {},
   "source": [
    "A Python variable is created automatically when you assign a value to it. The equal sign (=) is used to assign values to variables."
   ]
  },
  {
   "cell_type": "code",
   "execution_count": 3,
   "id": "03aa33d3-ace4-461e-bb1b-a87b2f078517",
   "metadata": {
    "tags": []
   },
   "outputs": [],
   "source": [
    "counter = 100\n",
    "miles =50.30\n",
    "name =\"Sultan\"\n"
   ]
  },
  {
   "cell_type": "code",
   "execution_count": 4,
   "id": "c72bd1d9-aefb-4d66-8d86-0c859c27c37d",
   "metadata": {
    "tags": []
   },
   "outputs": [
    {
     "name": "stdout",
     "output_type": "stream",
     "text": [
      "100\n",
      "50.3\n",
      "Sultan\n"
     ]
    }
   ],
   "source": [
    "print(counter)\n",
    "print(miles)\n",
    "print(name)"
   ]
  },
  {
   "cell_type": "markdown",
   "id": "373eb397-0c02-46b1-a1ae-db9eedf4082a",
   "metadata": {},
   "source": [
    "Delete a Variable\n",
    "-----------------"
   ]
  },
  {
   "cell_type": "markdown",
   "id": "5fc30bb3-9fa7-4bbe-a2e7-3b4f2985340e",
   "metadata": {},
   "source": [
    "del var"
   ]
  },
  {
   "cell_type": "code",
   "execution_count": 5,
   "id": "0c64a5e7-54a5-4b62-bea4-f1cd15be336f",
   "metadata": {
    "tags": []
   },
   "outputs": [],
   "source": [
    "del counter\n"
   ]
  },
  {
   "cell_type": "code",
   "execution_count": 6,
   "id": "c2e80b4f-ea63-4278-96b4-3ef2e40c909c",
   "metadata": {
    "tags": []
   },
   "outputs": [
    {
     "ename": "NameError",
     "evalue": "name 'counter' is not defined",
     "output_type": "error",
     "traceback": [
      "\u001b[0;31m---------------------------------------------------------------------------\u001b[0m",
      "\u001b[0;31mNameError\u001b[0m                                 Traceback (most recent call last)",
      "Cell \u001b[0;32mIn[6], line 1\u001b[0m\n\u001b[0;32m----> 1\u001b[0m \u001b[38;5;28mprint\u001b[39m(\u001b[43mcounter\u001b[49m)\n",
      "\u001b[0;31mNameError\u001b[0m: name 'counter' is not defined"
     ]
    }
   ],
   "source": [
    "print(counter)"
   ]
  },
  {
   "cell_type": "markdown",
   "id": "792502e8-8fd7-4ece-8b2d-7cf12377d80b",
   "metadata": {},
   "source": [
    "Multiple Assignment\n",
    "-------------------"
   ]
  },
  {
   "cell_type": "code",
   "execution_count": 8,
   "id": "b41ebd03-958b-4ba8-9f04-b4ab2a086404",
   "metadata": {
    "tags": []
   },
   "outputs": [
    {
     "name": "stdout",
     "output_type": "stream",
     "text": [
      "100.4\n",
      "100.4\n",
      "100.4\n"
     ]
    }
   ],
   "source": [
    "a =b = c= 100.40\n",
    "print(a)\n",
    "print(b)\n",
    "print(c)"
   ]
  },
  {
   "cell_type": "code",
   "execution_count": 9,
   "id": "d0e9445d-bda6-4106-91bc-ebe9cf56b0e9",
   "metadata": {
    "tags": []
   },
   "outputs": [
    {
     "name": "stdout",
     "output_type": "stream",
     "text": [
      "1\n",
      "2.8\n",
      "Abhishek\n"
     ]
    }
   ],
   "source": [
    "a , b, c = 1,2.8, \"Abhishek\"\n",
    "print(a)\n",
    "print(b)\n",
    "print(c)"
   ]
  },
  {
   "cell_type": "markdown",
   "id": "3fc81a3c-73b7-4d83-a972-c4a492ae98f5",
   "metadata": {},
   "source": [
    "Python - Data Types\n",
    "--------------------"
   ]
  },
  {
   "cell_type": "markdown",
   "id": "210723c8-2484-4ead-b430-c25b33f0c249",
   "metadata": {},
   "source": [
    "-> Numeric - int, float, complex\n",
    "\n",
    "->  String - str\n",
    "\n",
    "-> Sequence - list, tuple, range\n",
    "\n",
    "-> Binary - bytes, bytearray, memoryview\n",
    "\n",
    "-> Mapping - dict\n",
    "\n",
    "-> Boolean - bool\n",
    "\n",
    "-> Set - set, frozenset\n",
    "\n",
    "-> None - NoneType"
   ]
  },
  {
   "cell_type": "markdown",
   "id": "664ed9c2-bee5-4ec5-8bcd-b93605fff83c",
   "metadata": {},
   "source": [
    "Numeric Data Type\n",
    "================="
   ]
  },
  {
   "cell_type": "code",
   "execution_count": 10,
   "id": "6c3d4ff6-59c9-45eb-8f84-079eca074d2a",
   "metadata": {
    "tags": []
   },
   "outputs": [
    {
     "name": "stdout",
     "output_type": "stream",
     "text": [
      "The type of variable having value 100  is  <class 'int'>\n",
      "The type of variable having value 20.345  is  <class 'float'>\n",
      "The type of variable having value (10+3j)  is  <class 'complex'>\n"
     ]
    }
   ],
   "source": [
    "# integer variable.\n",
    "a=100\n",
    "print(\"The type of variable having value\", a, \" is \", type(a))\n",
    "\n",
    "# float variable.\n",
    "b=20.345\n",
    "print(\"The type of variable having value\", b, \" is \", type(b))\n",
    "\n",
    "# complex variable.\n",
    "c=10+3j\n",
    "print(\"The type of variable having value\", c, \" is \", type(c))"
   ]
  },
  {
   "cell_type": "markdown",
   "id": "276a3545-a76a-4146-8d64-31678f8abdb9",
   "metadata": {},
   "source": [
    "String Data Type\n",
    "---------------"
   ]
  },
  {
   "cell_type": "code",
   "execution_count": 11,
   "id": "c6b3e34e-79cc-4d10-b3a0-33c0a69444bf",
   "metadata": {
    "tags": []
   },
   "outputs": [],
   "source": [
    "str = 'Hello World!'"
   ]
  },
  {
   "cell_type": "code",
   "execution_count": 13,
   "id": "3ffeedd0-9e76-4602-872d-86ec86007a14",
   "metadata": {
    "tags": []
   },
   "outputs": [
    {
     "name": "stdout",
     "output_type": "stream",
     "text": [
      "Hello World!\n",
      "H\n"
     ]
    }
   ],
   "source": [
    "print(str) # Prints complete string\n",
    "print(str[0])  # Prints first character of the string"
   ]
  },
  {
   "cell_type": "code",
   "execution_count": 14,
   "id": "1e7ba888-87b1-4417-b4f0-8db8bb3c2f5f",
   "metadata": {
    "tags": []
   },
   "outputs": [
    {
     "name": "stdout",
     "output_type": "stream",
     "text": [
      "llo\n"
     ]
    }
   ],
   "source": [
    "print(str[2:5]) # Prints characters starting from 3rd to 5th"
   ]
  },
  {
   "cell_type": "code",
   "execution_count": 15,
   "id": "5ea51443-5667-4a26-b6c7-3c1eb9a69241",
   "metadata": {
    "tags": []
   },
   "outputs": [
    {
     "name": "stdout",
     "output_type": "stream",
     "text": [
      "llo World!\n"
     ]
    }
   ],
   "source": [
    "print(str[2:]) # Prints string starting from 3rd character"
   ]
  },
  {
   "cell_type": "code",
   "execution_count": 17,
   "id": "c07a3021-490d-4995-a8f3-8af99fbff68a",
   "metadata": {
    "tags": []
   },
   "outputs": [
    {
     "name": "stdout",
     "output_type": "stream",
     "text": [
      "Hello World!Hello World!\n"
     ]
    }
   ],
   "source": [
    "print(str * 2) # Prints string two times"
   ]
  },
  {
   "cell_type": "code",
   "execution_count": 18,
   "id": "44044e01-e41a-47c6-9b15-3bea6da0f112",
   "metadata": {
    "tags": []
   },
   "outputs": [
    {
     "name": "stdout",
     "output_type": "stream",
     "text": [
      "Hello World! Test\n"
     ]
    }
   ],
   "source": [
    "print(str + \" \" + 'Test') # Prints concatenated string"
   ]
  },
  {
   "cell_type": "markdown",
   "id": "07fa85d8-b7d2-410d-8593-b879ee411eb1",
   "metadata": {},
   "source": [
    "List Data Type\n",
    "--------------"
   ]
  },
  {
   "cell_type": "code",
   "execution_count": 19,
   "id": "f290e1eb-6a0f-4b80-8425-6c9f4135aa1f",
   "metadata": {
    "tags": []
   },
   "outputs": [
    {
     "name": "stdout",
     "output_type": "stream",
     "text": [
      "['abcd', 123, 2.45, 'john']\n",
      "abcd\n",
      "[123, 2.45]\n",
      "[1234, 'abhishek', 1234, 'abhishek']\n"
     ]
    }
   ],
   "source": [
    "list =['abcd' , 123, 2.45, 'john']\n",
    "tinylist =[1234, 'abhishek']\n",
    "\n",
    "print(list) # Prints complete list\n",
    "print(list[0])  # Prints first element of the list\n",
    "print(list[1:3]) # Prints from 2nd to 3rd elements\n",
    "print(tinylist *2) # prints tinylist 2 times"
   ]
  },
  {
   "cell_type": "markdown",
   "id": "aac08cfc-74a2-4689-a102-c1028637697e",
   "metadata": {},
   "source": [
    "Tuple Data Type\n",
    "---------------\n"
   ]
  },
  {
   "cell_type": "markdown",
   "id": "24d2b09f-0944-4823-819d-0c19e2a80012",
   "metadata": {},
   "source": [
    "The main differences between lists and tuples are: Lists are enclosed in brackets ( [ ] ) and their elements and size can be changed, while tuples are enclosed in parentheses ( ( ) ) and cannot be updated. Tuples can be thought of as read-only lists."
   ]
  },
  {
   "cell_type": "code",
   "execution_count": 24,
   "id": "4a19c86d-cd66-4045-96ce-9dfa4e4e50a7",
   "metadata": {
    "tags": []
   },
   "outputs": [
    {
     "name": "stdout",
     "output_type": "stream",
     "text": [
      "('abcd', 245, 2.56, 'john', (5+4j))\n",
      "245\n",
      "(245, 2.56, 'john')\n"
     ]
    }
   ],
   "source": [
    "tuple =('abcd', 245, 2.56, 'john', 5+4j)\n",
    "\n",
    "print(tuple) # print entire tuple\n",
    "print(tuple[1]) #print only second element\n",
    "print(tuple[1:4]) # print from 2nd to 4th elemnts\n"
   ]
  },
  {
   "cell_type": "markdown",
   "id": "79f26aae-1b8c-4133-b5c4-df0852f28805",
   "metadata": {},
   "source": [
    "Python Ranges\n",
    "-------------"
   ]
  },
  {
   "cell_type": "markdown",
   "id": "15554a8b-63b2-4c79-9ac2-6c2c4a045772",
   "metadata": {},
   "source": [
    "Python range() is an in-built function in Python which returns a sequence of numbers starting from 0 and increments to 1 until it reaches a specified number.\n",
    "\n",
    "range(start, stop, step)\n",
    "\n",
    "start: Integer number to specify starting position, (Its optional, Default: 0)\n",
    "\n",
    "stop: Integer number to specify starting position (It's mandatory)\n",
    "\n",
    "step: Integer number to specify increment, (Its optional, Default: 1)"
   ]
  },
  {
   "cell_type": "code",
   "execution_count": 25,
   "id": "1994d6c5-3d11-466f-a442-0ac6716fa7b5",
   "metadata": {
    "tags": []
   },
   "outputs": [
    {
     "name": "stdout",
     "output_type": "stream",
     "text": [
      "0\n",
      "1\n",
      "2\n",
      "3\n",
      "4\n",
      "5\n",
      "6\n",
      "7\n",
      "8\n",
      "9\n"
     ]
    }
   ],
   "source": [
    "for i in range(10) :\n",
    "    print(i)"
   ]
  },
  {
   "cell_type": "code",
   "execution_count": 27,
   "id": "cf2a69f0-fb5f-49dd-b412-3f4dcc11e345",
   "metadata": {
    "tags": []
   },
   "outputs": [
    {
     "name": "stdout",
     "output_type": "stream",
     "text": [
      "1\n",
      "3\n",
      "5\n",
      "7\n",
      "9\n"
     ]
    }
   ],
   "source": [
    "for i in range(1,10,2) :        #print numbers from 1 to 10 with increment of 2 \n",
    "    print(i)"
   ]
  },
  {
   "cell_type": "markdown",
   "id": "b63920a3-baeb-4797-97d0-07f5df923b54",
   "metadata": {},
   "source": [
    "Python Dictionary\n",
    "------------------"
   ]
  },
  {
   "cell_type": "markdown",
   "id": "9316a8a9-2607-4332-b6cc-098220ad38a7",
   "metadata": {},
   "source": [
    "Python dictionaries are kind of hash table type.\n",
    "\n",
    "Dictionaries are enclosed by curly braces ({ }) and values can be assigned and accessed using square braces ([])."
   ]
  },
  {
   "cell_type": "code",
   "execution_count": 31,
   "id": "6c46d83c-9ca4-4077-a89b-28d2b08ff0c4",
   "metadata": {
    "tags": []
   },
   "outputs": [
    {
     "name": "stdout",
     "output_type": "stream",
     "text": [
      "This is Two\n",
      "{'one': 'This is One', 2: 'This is Two'}\n"
     ]
    }
   ],
   "source": [
    "dict = { }\n",
    "dict['one'] =\"This is One\"\n",
    "dict[2] = \"This is Two\"\n",
    "\n",
    "print(dict[2])\n",
    "print(dict)"
   ]
  },
  {
   "cell_type": "markdown",
   "id": "8cf5d021-6eaf-4dc3-9275-564d6e0c1058",
   "metadata": {},
   "source": [
    "Python Boolean Data Types\n",
    "-------------------------"
   ]
  },
  {
   "cell_type": "code",
   "execution_count": 32,
   "id": "01af1556-45e4-4b23-b382-55c5a4ced1d4",
   "metadata": {
    "tags": []
   },
   "outputs": [
    {
     "name": "stdout",
     "output_type": "stream",
     "text": [
      "True\n",
      "<class 'bool'>\n"
     ]
    }
   ],
   "source": [
    "a= True\n",
    "print(a)\n",
    "print(type(a))"
   ]
  },
  {
   "cell_type": "markdown",
   "id": "a4a42b59-3cd0-4885-afcc-f9f15eb77bb2",
   "metadata": {},
   "source": [
    "Data Type Conversion\n",
    "==================="
   ]
  },
  {
   "cell_type": "markdown",
   "id": "350c25e5-4856-4829-8df9-7bbb2f56297c",
   "metadata": {},
   "source": [
    "Conversion to Int\n",
    "-------------------"
   ]
  },
  {
   "cell_type": "code",
   "execution_count": 37,
   "id": "e020648f-076f-45ba-a565-93d4d2c36da1",
   "metadata": {
    "tags": []
   },
   "outputs": [
    {
     "name": "stdout",
     "output_type": "stream",
     "text": [
      "2\n",
      "3.5\n"
     ]
    }
   ],
   "source": [
    "a= int(2.3)\n",
    "print(a)\n",
    "\n",
    "b = float(\"3.5\")\n",
    "print(b)"
   ]
  },
  {
   "cell_type": "code",
   "execution_count": null,
   "id": "3d380e5d-42f5-4cb1-a85a-3e292b259302",
   "metadata": {},
   "outputs": [],
   "source": []
  }
 ],
 "metadata": {
  "kernelspec": {
   "display_name": "Python 3 (ipykernel)",
   "language": "python",
   "name": "python3"
  },
  "language_info": {
   "codemirror_mode": {
    "name": "ipython",
    "version": 3
   },
   "file_extension": ".py",
   "mimetype": "text/x-python",
   "name": "python",
   "nbconvert_exporter": "python",
   "pygments_lexer": "ipython3",
   "version": "3.11.2"
  }
 },
 "nbformat": 4,
 "nbformat_minor": 5
}
